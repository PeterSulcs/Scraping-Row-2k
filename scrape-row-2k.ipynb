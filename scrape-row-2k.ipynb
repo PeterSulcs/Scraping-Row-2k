{
 "cells": [
  {
   "cell_type": "code",
   "execution_count": 1,
   "metadata": {
    "collapsed": true
   },
   "outputs": [],
   "source": [
    "import requests\n",
    "import bs4"
   ]
  },
  {
   "cell_type": "code",
   "execution_count": 2,
   "metadata": {
    "collapsed": true
   },
   "outputs": [],
   "source": [
    "import pandas as pd"
   ]
  },
  {
   "cell_type": "code",
   "execution_count": 3,
   "metadata": {
    "collapsed": true
   },
   "outputs": [],
   "source": [
    "s = requests.session()"
   ]
  },
  {
   "cell_type": "code",
   "execution_count": 4,
   "metadata": {
    "collapsed": false
   },
   "outputs": [],
   "source": [
    "s.headers['User-Agent'] = 'Mozilla/5.0 (Windows NT 10.0; Win64; x64) AppleWebKit/537.36 (KHTML, like Gecko) Chrome/51.0.2704.36 Safari/537.36'"
   ]
  },
  {
   "cell_type": "code",
   "execution_count": 5,
   "metadata": {
    "collapsed": false
   },
   "outputs": [
    {
     "data": {
      "text/plain": [
       "{'Accept-Encoding': 'gzip, deflate', 'Connection': 'keep-alive', 'Accept': '*/*', 'User-Agent': 'Mozilla/5.0 (Windows NT 10.0; Win64; x64) AppleWebKit/537.36 (KHTML, like Gecko) Chrome/51.0.2704.36 Safari/537.36'}"
      ]
     },
     "execution_count": 5,
     "metadata": {},
     "output_type": "execute_result"
    }
   ],
   "source": [
    "s.headers"
   ]
  },
  {
   "cell_type": "code",
   "execution_count": 6,
   "metadata": {
    "collapsed": false
   },
   "outputs": [],
   "source": [
    "r = s.get('http://www.row2k.com/results')"
   ]
  },
  {
   "cell_type": "code",
   "execution_count": 8,
   "metadata": {
    "collapsed": false
   },
   "outputs": [],
   "source": [
    "soup = bs4.BeautifulSoup(r.content, 'lxml')"
   ]
  },
  {
   "cell_type": "code",
   "execution_count": 9,
   "metadata": {
    "collapsed": false
   },
   "outputs": [],
   "source": [
    "# find all individual head to head races with RIT or Rochester Institute of Technology Mentioned\n",
    "links = list()\n",
    "for link in soup.findAll('a'):\n",
    "    if link.has_attr('href'):\n",
    "        href = link['href']\n",
    "        if href.startswith('/results/resultspage'):\n",
    "            t = link.text.lower()\n",
    "            if 'rochester institute of technology' in t or ' rit' in t:\n",
    "                links.append(link)"
   ]
  },
  {
   "cell_type": "code",
   "execution_count": 10,
   "metadata": {
    "collapsed": false
   },
   "outputs": [
    {
     "data": {
      "text/plain": [
       "[<a href=\"/results/resultspage.cfm?UID=AF80AF5A922CFE1E6A0A9F3E7343373C&amp;cat=1\">Union College vs. RIT</a>,\n",
       " <a href=\"/results/resultspage.cfm?UID=54138AE6C623119EE10DDB345E6EACAC&amp;cat=1\">Union College vs. RIT</a>,\n",
       " <a href=\"/results/resultspage.cfm?UID=DE44C7550AC5B96212FED2D3D91E2E53&amp;cat=1\">RIT Men vs. SLU Men: Rochester Institute of Technology vs. St. Lawrence University</a>,\n",
       " <a href=\"/results/resultspage.cfm?UID=13043A65B43BDB74D362588F1DC1C38E&amp;cat=1\">RIT vs. SLU: Rochester Institute of Technology vs. St. Lawrence University</a>,\n",
       " <a href=\"/results/resultspage.cfm?UID=53CB18C1B62B6DD3F3621C3B7EE30294&amp;cat=1\">Hamilton College vs. RIT</a>,\n",
       " <a href=\"/results/resultspage.cfm?UID=F6E4BC1798EF6CBE6AA3FB3CBB65C88E&amp;cat=1\">William Smith vs. Hamilton, RIT</a>,\n",
       " <a href=\"/results/resultspage.cfm?UID=1678166CE6DE7E10FEA61DAB9AD723B2&amp;cat=1\">Ithaca College vs. U. of Rochester, RIT</a>,\n",
       " <a href=\"/results/resultspage.cfm?UID=B40986A825F09497D1BBEC3AF661E677&amp;cat=1\">Ithaca College vs. U. of Rochester, RIT</a>]"
      ]
     },
     "execution_count": 10,
     "metadata": {},
     "output_type": "execute_result"
    }
   ],
   "source": [
    "links"
   ]
  },
  {
   "cell_type": "code",
   "execution_count": 11,
   "metadata": {
    "collapsed": false
   },
   "outputs": [],
   "source": [
    "def get_race_results_page(link):\n",
    "    #TODO: grab date and title\n",
    "    link.get('href')\n",
    "    the_soup = bs4.BeautifulSoup(s.get('http://www.row2k.com' + link.get('href')).content, 'lxml')\n",
    "    results = the_soup.findAll('table', attrs={'border':'0', 'cellpadding':\"0\", 'cellspacing':\"0\", 'width':\"650\"})\n",
    "    results = results[1].findAll('tr')[4].findAll('tr')[4:-2]\n",
    "    events = list()\n",
    "    n = -1\n",
    "    for r in results:\n",
    "        if r.has_attr('align'):\n",
    "            event = {'event_name': r.text, 'participants': list()}\n",
    "            events.append(event)\n",
    "            n += 1\n",
    "        else:\n",
    "            tds = r.findAll('td')\n",
    "            if tds[0].text.strip() != '' and len(tds) == 2:\n",
    "                participant = {'name': tds[0].text.strip(), 'time': tds[1].text.strip()}\n",
    "                events[n]['participants'].append(participant)\n",
    "    return {'submitter': the_soup.find('blockquote').i.text, \n",
    "            'description': the_soup.find('blockquote').p.text.strip(),\n",
    "            'results': events}"
   ]
  },
  {
   "cell_type": "code",
   "execution_count": 12,
   "metadata": {
    "collapsed": false
   },
   "outputs": [],
   "source": [
    "races = list()\n",
    "for link in links:\n",
    "    a = get_race_results_page(link)\n",
    "    a['Title'] = link.text\n",
    "    races.append(a)"
   ]
  },
  {
   "cell_type": "code",
   "execution_count": 13,
   "metadata": {
    "collapsed": false
   },
   "outputs": [
    {
     "data": {
      "text/plain": [
       "[{'Title': 'Union College vs. RIT',\n",
       "  'description': \"Distance: 1900m Conditions: Light head current, approximately 3 mph cross wind for the Varsity Men's 8 event.\\r\\nLight head current, approximately 12-14 mph tail wind for the 2V/Novice Men's 8.\",\n",
       "  'results': [{'event_name': '\\nVarsity 8:\\n',\n",
       "    'participants': [{'name': 'RIT', 'time': '6:01.41'},\n",
       "     {'name': 'Union', 'time': '6:16.74'}]},\n",
       "   {'event_name': '\\n2nd Varsity 8:\\n',\n",
       "    'participants': [{'name': 'RIT 2V', 'time': '5:54.31'},\n",
       "     {'name': 'RIT Novice', 'time': '6:05.91'},\n",
       "     {'name': 'Union 2V', 'time': '6:26.02'}]}],\n",
       "  'submitter': 'Submitted by Mike DeWolfe.'},\n",
       " {'Title': 'Union College vs. RIT',\n",
       "  'description': \"Distance: 1900m Conditions: Light head current and approximately 3 mph cross wind for Varsity Women event. Light head current approximately 10-12 mph tail wind for 2V/Novice race.  Comments: The Women's 2V/Novice event was started 2 lengths into course on float.\",\n",
       "  'results': [{'event_name': '\\nVarsity 8:\\n',\n",
       "    'participants': [{'name': 'RIT', 'time': '6:55.69'},\n",
       "     {'name': 'Union', 'time': '7:23.67'}]},\n",
       "   {'event_name': '\\n2nd Varsity 8:\\n',\n",
       "    'participants': [{'name': 'RIT 2V', 'time': '6:51.48'},\n",
       "     {'name': 'RIT Novice', 'time': '7:05.11'},\n",
       "     {'name': 'Union 2V', 'time': '7:11.39'}]}],\n",
       "  'submitter': 'Submitted by Mike DeWolfe.'},\n",
       " {'Title': 'RIT Men vs. SLU Men: Rochester Institute of Technology vs. St. Lawrence University',\n",
       "  'description': \"Distance: 1750 Conditions: All races were against the current. Slight head wind at the start and moderate by the 1000 meter mark to the finish. Average temperature was 30 degrees. Comments: In the first Frosh/Novice 8 race, a large log jam floated down the middle of the course at the 1200 meter mark. Crews had to be steered around it, with SLU having to go wider and a longer course to avoid it. A hundred meters before this point, it had been a close race with RIT up by only half a length. After the finish of the race the SLU coach and the RIT coach discussed if the race was fair. We spoke with the athletes and told them we didn't think the race was fair and that we would like to re-run it. The athletes agreed and we ran the race a second time with no debris issues.\",\n",
       "  'results': [{'event_name': '\\nVarsity 8:\\n',\n",
       "    'participants': [{'name': 'RIT', 'time': '5:33.73'},\n",
       "     {'name': 'SLU', 'time': '5:45.72'}]},\n",
       "   {'event_name': '\\n2nd Varsity 8:\\n',\n",
       "    'participants': [{'name': 'RIT', 'time': '5:44.07'},\n",
       "     {'name': 'SLU', 'time': '6:06.66'}]},\n",
       "   {'event_name': '\\n3rd Varsity 8:\\n',\n",
       "    'participants': [{'name': 'RIT', 'time': '6:15.45'},\n",
       "     {'name': 'SLU', 'time': '6:35.50'}]},\n",
       "   {'event_name': '\\nRe-Run of F/N 8:\\n',\n",
       "    'participants': [{'name': 'RIT', 'time': '5:54.38'},\n",
       "     {'name': 'SLU', 'time': '6:00.87'}]},\n",
       "   {'event_name': '\\nFrosh/Novice 8:\\n',\n",
       "    'participants': [{'name': 'RIT', 'time': '5:48.27'},\n",
       "     {'name': 'SLU', 'time': '5:54.64'}]}],\n",
       "  'submitter': 'Submitted by Jim Bodenstedt.'},\n",
       " {'Title': 'RIT vs. SLU: Rochester Institute of Technology vs. St. Lawrence University',\n",
       "  'description': \"Distance: 1750 Conditions: All races were against the current. A slight head wind at the start and moderate head wind by the 1000 meter mark to the finish. Average temperature was 30 degrees. Comments: RIT's F/N 8 raced in the 2V event.\",\n",
       "  'results': [{'event_name': '\\nVarsity 8:\\n',\n",
       "    'participants': [{'name': 'RIT', 'time': '6:22.47'},\n",
       "     {'name': 'SLU', 'time': '6:42.88'}]},\n",
       "   {'event_name': '\\n2nd Varsity 8:\\n',\n",
       "    'participants': [{'name': 'RIT', 'time': '6:50.4'},\n",
       "     {'name': 'SLU', 'time': '7:05.5'},\n",
       "     {'name': 'RIT F/N 8', 'time': '7:15.4'}]}],\n",
       "  'submitter': 'Submitted by Jim Bodenstedt.'},\n",
       " {'Title': 'Hamilton College vs. RIT',\n",
       "  'description': 'Distance: 2000 M Conditions: Increasing cross-headwind throughout the day.  Order of racing: M2V, M1V, M1N/3V.',\n",
       "  'results': [{'event_name': '\\nVarsity 8:\\n',\n",
       "    'participants': [{'name': 'RIT', 'time': '6:31.71'},\n",
       "     {'name': 'Hamilton', 'time': '6:35.29'}]},\n",
       "   {'event_name': '\\n2nd Varsity 8:\\n',\n",
       "    'participants': [{'name': 'RIT', 'time': '6:40.70'},\n",
       "     {'name': 'Hamilton', 'time': '7:16.75'}]},\n",
       "   {'event_name': '\\n1N/3V :\\n',\n",
       "    'participants': [{'name': 'RIT (1N)', 'time': '7:07.96'},\n",
       "     {'name': 'Hamilton (3V)', 'time': '7:54.28'}]}],\n",
       "  'submitter': 'Submitted by Sandra Chu.'},\n",
       " {'Title': 'William Smith vs. Hamilton, RIT',\n",
       "  'description': 'Distance: 2000 M Conditions: Increasing cross head-wind throughout the day  Order of racing: W2V, W1V, W1N.  Slight head current.  Flat conditions.',\n",
       "  'results': [{'event_name': '\\nVarsity 8:\\n',\n",
       "    'participants': [{'name': 'RIT', 'time': '7:23.87'},\n",
       "     {'name': 'Hamilton', 'time': '7:28.87'},\n",
       "     {'name': 'William Smith', 'time': '7:29.77'}]},\n",
       "   {'event_name': '\\n2nd Varsity 8:\\n',\n",
       "    'participants': [{'name': 'William Smith', 'time': '7:40.58'},\n",
       "     {'name': 'RIT', 'time': '7:50.75'}]},\n",
       "   {'event_name': '\\nFrosh/Novice 8:\\n',\n",
       "    'participants': [{'name': 'Hamilton', 'time': '8:10.41'},\n",
       "     {'name': 'RIT', 'time': '8:27.43'},\n",
       "     {'name': 'William Smith', 'time': '9:01.67'}]}],\n",
       "  'submitter': 'Submitted by Sandra Chu.'},\n",
       " {'Title': 'Ithaca College vs. U. of Rochester, RIT',\n",
       "  'description': 'Distance: 2k Conditions: Stake-boat start, but with psychotic conditions...variable 5-25 mph cross, tail, and head-wind, and rain showers.\\r\\n Comments: Mv8 hit mid-way by a torrential shower with 30 mph wind-gusts....water was flat though.',\n",
       "  'results': [{'event_name': '\\nVarsity 8:\\n',\n",
       "    'participants': [{'name': 'Ithaca', 'time': '6:56.6'},\n",
       "     {'name': 'RIT', 'time': '7:00.1'},\n",
       "     {'name': 'UR', 'time': '7:25.4'}]},\n",
       "   {'event_name': '\\n2nd Varsity 8:\\n',\n",
       "    'participants': [{'name': 'RIT', 'time': '6:24.8'},\n",
       "     {'name': 'Ithaca', 'time': '6:40.5'},\n",
       "     {'name': 'UR', 'time': '7:54.6'}]},\n",
       "   {'event_name': '\\nVarsity Four:\\n', 'participants': []},\n",
       "   {'event_name': '\\n Ithaca \\n 7:29.8 \\n', 'participants': []},\n",
       "   {'event_name': '\\n UR \\n 7:39.8 \\n', 'participants': []},\n",
       "   {'event_name': '\\n \\n \\n', 'participants': []},\n",
       "   {'event_name': '\\n \\n \\n', 'participants': []},\n",
       "   {'event_name': '\\n \\n \\n', 'participants': []},\n",
       "   {'event_name': '\\n \\n \\n', 'participants': []},\n",
       "   {'event_name': '\\n \\n \\n', 'participants': []},\n",
       "   {'event_name': '\\n \\n \\n', 'participants': []},\n",
       "   {'event_name': '\\n2nd varsity 4:\\n',\n",
       "    'participants': [{'name': 'Ithaca', 'time': '7:52.1'},\n",
       "     {'name': 'Ithaca \"b\"', 'time': '7:52.8'},\n",
       "     {'name': 'UR', 'time': '8:37.9'}]},\n",
       "   {'event_name': '\\nFrosh/Novice 8:\\n',\n",
       "    'participants': [{'name': 'RIT', 'time': '7:05.0'},\n",
       "     {'name': 'Ithaca', 'time': '7:23.1'},\n",
       "     {'name': 'UR', 'time': '7:32.3'}]}],\n",
       "  'submitter': 'Submitted by Dan Robinson.'},\n",
       " {'Title': 'Ithaca College vs. U. of Rochester, RIT',\n",
       "  'description': 'Distance: 2k Conditions: stake-boat start with psychotic conditions....flat water with variable 5-25 mph head, tail, and cross-wind, and rain showers!',\n",
       "  'results': [{'event_name': '\\nVarsity 8:\\n',\n",
       "    'participants': [{'name': 'Ithaca', 'time': '7:24.9'},\n",
       "     {'name': 'RIT', 'time': '7:34.7'},\n",
       "     {'name': 'UR', 'time': '7:41.1'}]},\n",
       "   {'event_name': '\\n2nd Varsity 8:\\n',\n",
       "    'participants': [{'name': 'RIT', 'time': '7:16.7'},\n",
       "     {'name': 'Ithaca', 'time': '7:17.4'},\n",
       "     {'name': 'UR', 'time': '7:43.7'}]},\n",
       "   {'event_name': '\\n3rd varsity 8:\\n',\n",
       "    'participants': [{'name': 'Ithaca', 'time': '8:09.0'},\n",
       "     {'name': 'Ithaca 4v', 'time': '8:12.0'},\n",
       "     {'name': 'UR', 'time': '9:06.1'}]},\n",
       "   {'event_name': '\\nFrosh/Novice 8:\\n',\n",
       "    'participants': [{'name': 'Ithaca', 'time': '7:50.9'},\n",
       "     {'name': 'RIT', 'time': '8:15.1'},\n",
       "     {'name': 'Ithaca', 'time': '8:23.8'}]}],\n",
       "  'submitter': 'Submitted by Dan Robinson.'}]"
      ]
     },
     "execution_count": 13,
     "metadata": {},
     "output_type": "execute_result"
    }
   ],
   "source": [
    "races"
   ]
  }
 ],
 "metadata": {
  "kernelspec": {
   "display_name": "Python 3",
   "language": "python",
   "name": "python3"
  },
  "language_info": {
   "codemirror_mode": {
    "name": "ipython",
    "version": 3
   },
   "file_extension": ".py",
   "mimetype": "text/x-python",
   "name": "python",
   "nbconvert_exporter": "python",
   "pygments_lexer": "ipython3",
   "version": "3.5.1"
  }
 },
 "nbformat": 4,
 "nbformat_minor": 0
}
